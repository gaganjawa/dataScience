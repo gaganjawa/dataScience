{
 "cells": [
  {
   "cell_type": "code",
   "execution_count": 3,
   "metadata": {},
   "outputs": [],
   "source": [
    "import pandas as pd\n",
    "import numpy as np\n",
    "import matplotlib.pyplot as plt\n",
    "import seaborn as sns\n",
    "%matplotlib inline"
   ]
  },
  {
   "cell_type": "code",
   "execution_count": 57,
   "metadata": {},
   "outputs": [],
   "source": [
    "dataset = pd.read_csv(\"C:/Users/gjawa/Documents/TechnoGeeks/Market_Basket_Optimisation.csv\", header=None)"
   ]
  },
  {
   "cell_type": "code",
   "execution_count": 58,
   "metadata": {},
   "outputs": [
    {
     "data": {
      "text/html": [
       "<div>\n",
       "<style scoped>\n",
       "    .dataframe tbody tr th:only-of-type {\n",
       "        vertical-align: middle;\n",
       "    }\n",
       "\n",
       "    .dataframe tbody tr th {\n",
       "        vertical-align: top;\n",
       "    }\n",
       "\n",
       "    .dataframe thead th {\n",
       "        text-align: right;\n",
       "    }\n",
       "</style>\n",
       "<table border=\"1\" class=\"dataframe\">\n",
       "  <thead>\n",
       "    <tr style=\"text-align: right;\">\n",
       "      <th></th>\n",
       "      <th>0</th>\n",
       "      <th>1</th>\n",
       "      <th>2</th>\n",
       "      <th>3</th>\n",
       "      <th>4</th>\n",
       "      <th>5</th>\n",
       "      <th>6</th>\n",
       "      <th>7</th>\n",
       "      <th>8</th>\n",
       "      <th>9</th>\n",
       "      <th>10</th>\n",
       "      <th>11</th>\n",
       "      <th>12</th>\n",
       "      <th>13</th>\n",
       "      <th>14</th>\n",
       "      <th>15</th>\n",
       "      <th>16</th>\n",
       "      <th>17</th>\n",
       "      <th>18</th>\n",
       "      <th>19</th>\n",
       "    </tr>\n",
       "  </thead>\n",
       "  <tbody>\n",
       "    <tr>\n",
       "      <th>0</th>\n",
       "      <td>shrimp</td>\n",
       "      <td>almonds</td>\n",
       "      <td>avocado</td>\n",
       "      <td>vegetables mix</td>\n",
       "      <td>green grapes</td>\n",
       "      <td>whole weat flour</td>\n",
       "      <td>yams</td>\n",
       "      <td>cottage cheese</td>\n",
       "      <td>energy drink</td>\n",
       "      <td>tomato juice</td>\n",
       "      <td>low fat yogurt</td>\n",
       "      <td>green tea</td>\n",
       "      <td>honey</td>\n",
       "      <td>salad</td>\n",
       "      <td>mineral water</td>\n",
       "      <td>salmon</td>\n",
       "      <td>antioxydant juice</td>\n",
       "      <td>frozen smoothie</td>\n",
       "      <td>spinach</td>\n",
       "      <td>olive oil</td>\n",
       "    </tr>\n",
       "    <tr>\n",
       "      <th>1</th>\n",
       "      <td>burgers</td>\n",
       "      <td>meatballs</td>\n",
       "      <td>eggs</td>\n",
       "      <td>NaN</td>\n",
       "      <td>NaN</td>\n",
       "      <td>NaN</td>\n",
       "      <td>NaN</td>\n",
       "      <td>NaN</td>\n",
       "      <td>NaN</td>\n",
       "      <td>NaN</td>\n",
       "      <td>NaN</td>\n",
       "      <td>NaN</td>\n",
       "      <td>NaN</td>\n",
       "      <td>NaN</td>\n",
       "      <td>NaN</td>\n",
       "      <td>NaN</td>\n",
       "      <td>NaN</td>\n",
       "      <td>NaN</td>\n",
       "      <td>NaN</td>\n",
       "      <td>NaN</td>\n",
       "    </tr>\n",
       "    <tr>\n",
       "      <th>2</th>\n",
       "      <td>chutney</td>\n",
       "      <td>NaN</td>\n",
       "      <td>NaN</td>\n",
       "      <td>NaN</td>\n",
       "      <td>NaN</td>\n",
       "      <td>NaN</td>\n",
       "      <td>NaN</td>\n",
       "      <td>NaN</td>\n",
       "      <td>NaN</td>\n",
       "      <td>NaN</td>\n",
       "      <td>NaN</td>\n",
       "      <td>NaN</td>\n",
       "      <td>NaN</td>\n",
       "      <td>NaN</td>\n",
       "      <td>NaN</td>\n",
       "      <td>NaN</td>\n",
       "      <td>NaN</td>\n",
       "      <td>NaN</td>\n",
       "      <td>NaN</td>\n",
       "      <td>NaN</td>\n",
       "    </tr>\n",
       "    <tr>\n",
       "      <th>3</th>\n",
       "      <td>turkey</td>\n",
       "      <td>avocado</td>\n",
       "      <td>NaN</td>\n",
       "      <td>NaN</td>\n",
       "      <td>NaN</td>\n",
       "      <td>NaN</td>\n",
       "      <td>NaN</td>\n",
       "      <td>NaN</td>\n",
       "      <td>NaN</td>\n",
       "      <td>NaN</td>\n",
       "      <td>NaN</td>\n",
       "      <td>NaN</td>\n",
       "      <td>NaN</td>\n",
       "      <td>NaN</td>\n",
       "      <td>NaN</td>\n",
       "      <td>NaN</td>\n",
       "      <td>NaN</td>\n",
       "      <td>NaN</td>\n",
       "      <td>NaN</td>\n",
       "      <td>NaN</td>\n",
       "    </tr>\n",
       "    <tr>\n",
       "      <th>4</th>\n",
       "      <td>mineral water</td>\n",
       "      <td>milk</td>\n",
       "      <td>energy bar</td>\n",
       "      <td>whole wheat rice</td>\n",
       "      <td>green tea</td>\n",
       "      <td>NaN</td>\n",
       "      <td>NaN</td>\n",
       "      <td>NaN</td>\n",
       "      <td>NaN</td>\n",
       "      <td>NaN</td>\n",
       "      <td>NaN</td>\n",
       "      <td>NaN</td>\n",
       "      <td>NaN</td>\n",
       "      <td>NaN</td>\n",
       "      <td>NaN</td>\n",
       "      <td>NaN</td>\n",
       "      <td>NaN</td>\n",
       "      <td>NaN</td>\n",
       "      <td>NaN</td>\n",
       "      <td>NaN</td>\n",
       "    </tr>\n",
       "  </tbody>\n",
       "</table>\n",
       "</div>"
      ],
      "text/plain": [
       "              0          1           2                 3             4   \\\n",
       "0         shrimp    almonds     avocado    vegetables mix  green grapes   \n",
       "1        burgers  meatballs        eggs               NaN           NaN   \n",
       "2        chutney        NaN         NaN               NaN           NaN   \n",
       "3         turkey    avocado         NaN               NaN           NaN   \n",
       "4  mineral water       milk  energy bar  whole wheat rice     green tea   \n",
       "\n",
       "                 5     6               7             8             9   \\\n",
       "0  whole weat flour  yams  cottage cheese  energy drink  tomato juice   \n",
       "1               NaN   NaN             NaN           NaN           NaN   \n",
       "2               NaN   NaN             NaN           NaN           NaN   \n",
       "3               NaN   NaN             NaN           NaN           NaN   \n",
       "4               NaN   NaN             NaN           NaN           NaN   \n",
       "\n",
       "               10         11     12     13             14      15  \\\n",
       "0  low fat yogurt  green tea  honey  salad  mineral water  salmon   \n",
       "1             NaN        NaN    NaN    NaN            NaN     NaN   \n",
       "2             NaN        NaN    NaN    NaN            NaN     NaN   \n",
       "3             NaN        NaN    NaN    NaN            NaN     NaN   \n",
       "4             NaN        NaN    NaN    NaN            NaN     NaN   \n",
       "\n",
       "                  16               17       18         19  \n",
       "0  antioxydant juice  frozen smoothie  spinach  olive oil  \n",
       "1                NaN              NaN      NaN        NaN  \n",
       "2                NaN              NaN      NaN        NaN  \n",
       "3                NaN              NaN      NaN        NaN  \n",
       "4                NaN              NaN      NaN        NaN  "
      ]
     },
     "execution_count": 58,
     "metadata": {},
     "output_type": "execute_result"
    }
   ],
   "source": [
    "dataset.head()"
   ]
  },
  {
   "cell_type": "code",
   "execution_count": 47,
   "metadata": {},
   "outputs": [],
   "source": [
    "bils = [list(dataset.loc[i]) for i in range(0, len(dataset))]"
   ]
  },
  {
   "cell_type": "code",
   "execution_count": 62,
   "metadata": {},
   "outputs": [],
   "source": [
    "for i in range(7501):\n",
    "    bils.append([str(dataset.values[i,j]) for j in range(20)])"
   ]
  },
  {
   "cell_type": "code",
   "execution_count": 63,
   "metadata": {},
   "outputs": [
    {
     "data": {
      "text/plain": [
       "7501"
      ]
     },
     "execution_count": 63,
     "metadata": {},
     "output_type": "execute_result"
    }
   ],
   "source": [
    "len(bils)"
   ]
  },
  {
   "cell_type": "code",
   "execution_count": 61,
   "metadata": {},
   "outputs": [],
   "source": [
    "bils=[]"
   ]
  },
  {
   "cell_type": "code",
   "execution_count": 64,
   "metadata": {},
   "outputs": [],
   "source": [
    "from apyori import apriori"
   ]
  },
  {
   "cell_type": "code",
   "execution_count": 65,
   "metadata": {},
   "outputs": [],
   "source": [
    "rules = apriori(bils, min_support = 0.003, min_confidence=0.20, min_lift = 3, min_length=2)"
   ]
  },
  {
   "cell_type": "code",
   "execution_count": 66,
   "metadata": {},
   "outputs": [],
   "source": [
    "result = list(rules)"
   ]
  },
  {
   "cell_type": "code",
   "execution_count": 67,
   "metadata": {},
   "outputs": [
    {
     "data": {
      "text/plain": [
       "154"
      ]
     },
     "execution_count": 67,
     "metadata": {},
     "output_type": "execute_result"
    }
   ],
   "source": [
    "len(result)"
   ]
  },
  {
   "cell_type": "code",
   "execution_count": 68,
   "metadata": {},
   "outputs": [
    {
     "data": {
      "text/plain": [
       "RelationRecord(items=frozenset({'chicken', 'light cream'}), support=0.004532728969470737, ordered_statistics=[OrderedStatistic(items_base=frozenset({'light cream'}), items_add=frozenset({'chicken'}), confidence=0.29059829059829057, lift=4.84395061728395)])"
      ]
     },
     "execution_count": 68,
     "metadata": {},
     "output_type": "execute_result"
    }
   ],
   "source": [
    "result[0]"
   ]
  },
  {
   "cell_type": "code",
   "execution_count": 72,
   "metadata": {},
   "outputs": [],
   "source": [
    "import folium"
   ]
  },
  {
   "cell_type": "code",
   "execution_count": 70,
   "metadata": {},
   "outputs": [],
   "source": [
    "volcanoes = pd.read_csv(\"C:\\\\Users\\\\gjawa\\\\Documents\\\\TechnoGeeks\\\\Webmaps in Python\\\\Volcanoes.txt\")"
   ]
  },
  {
   "cell_type": "code",
   "execution_count": 71,
   "metadata": {},
   "outputs": [
    {
     "data": {
      "text/html": [
       "<div>\n",
       "<style scoped>\n",
       "    .dataframe tbody tr th:only-of-type {\n",
       "        vertical-align: middle;\n",
       "    }\n",
       "\n",
       "    .dataframe tbody tr th {\n",
       "        vertical-align: top;\n",
       "    }\n",
       "\n",
       "    .dataframe thead th {\n",
       "        text-align: right;\n",
       "    }\n",
       "</style>\n",
       "<table border=\"1\" class=\"dataframe\">\n",
       "  <thead>\n",
       "    <tr style=\"text-align: right;\">\n",
       "      <th></th>\n",
       "      <th>VOLCANX020</th>\n",
       "      <th>NUMBER</th>\n",
       "      <th>NAME</th>\n",
       "      <th>LOCATION</th>\n",
       "      <th>STATUS</th>\n",
       "      <th>ELEV</th>\n",
       "      <th>TYPE</th>\n",
       "      <th>TIMEFRAME</th>\n",
       "      <th>LAT</th>\n",
       "      <th>LON</th>\n",
       "    </tr>\n",
       "  </thead>\n",
       "  <tbody>\n",
       "    <tr>\n",
       "      <th>0</th>\n",
       "      <td>509.0</td>\n",
       "      <td>1201-01=</td>\n",
       "      <td>Baker</td>\n",
       "      <td>US-Washington</td>\n",
       "      <td>Historical</td>\n",
       "      <td>3285.0</td>\n",
       "      <td>Stratovolcanoes</td>\n",
       "      <td>D3</td>\n",
       "      <td>48.776798</td>\n",
       "      <td>-121.810997</td>\n",
       "    </tr>\n",
       "    <tr>\n",
       "      <th>1</th>\n",
       "      <td>511.0</td>\n",
       "      <td>1201-02-</td>\n",
       "      <td>Glacier Peak</td>\n",
       "      <td>US-Washington</td>\n",
       "      <td>Tephrochronology</td>\n",
       "      <td>3213.0</td>\n",
       "      <td>Stratovolcano</td>\n",
       "      <td>D4</td>\n",
       "      <td>48.111801</td>\n",
       "      <td>-121.111000</td>\n",
       "    </tr>\n",
       "    <tr>\n",
       "      <th>2</th>\n",
       "      <td>513.0</td>\n",
       "      <td>1201-03-</td>\n",
       "      <td>Rainier</td>\n",
       "      <td>US-Washington</td>\n",
       "      <td>Dendrochronology</td>\n",
       "      <td>4392.0</td>\n",
       "      <td>Stratovolcano</td>\n",
       "      <td>D3</td>\n",
       "      <td>46.869801</td>\n",
       "      <td>-121.751000</td>\n",
       "    </tr>\n",
       "    <tr>\n",
       "      <th>3</th>\n",
       "      <td>515.0</td>\n",
       "      <td>1201-05-</td>\n",
       "      <td>St. Helens</td>\n",
       "      <td>US-Washington</td>\n",
       "      <td>Historical</td>\n",
       "      <td>2549.0</td>\n",
       "      <td>Stratovolcano</td>\n",
       "      <td>D1</td>\n",
       "      <td>46.199799</td>\n",
       "      <td>-122.181000</td>\n",
       "    </tr>\n",
       "    <tr>\n",
       "      <th>4</th>\n",
       "      <td>516.0</td>\n",
       "      <td>1201-04-</td>\n",
       "      <td>Adams</td>\n",
       "      <td>US-Washington</td>\n",
       "      <td>Tephrochronology</td>\n",
       "      <td>3742.0</td>\n",
       "      <td>Stratovolcano</td>\n",
       "      <td>D6</td>\n",
       "      <td>46.205799</td>\n",
       "      <td>-121.490997</td>\n",
       "    </tr>\n",
       "  </tbody>\n",
       "</table>\n",
       "</div>"
      ],
      "text/plain": [
       "   VOLCANX020    NUMBER          NAME       LOCATION            STATUS  \\\n",
       "0       509.0  1201-01=         Baker  US-Washington        Historical   \n",
       "1       511.0  1201-02-  Glacier Peak  US-Washington  Tephrochronology   \n",
       "2       513.0  1201-03-       Rainier  US-Washington  Dendrochronology   \n",
       "3       515.0  1201-05-    St. Helens  US-Washington        Historical   \n",
       "4       516.0  1201-04-         Adams  US-Washington  Tephrochronology   \n",
       "\n",
       "     ELEV             TYPE TIMEFRAME        LAT         LON  \n",
       "0  3285.0  Stratovolcanoes        D3  48.776798 -121.810997  \n",
       "1  3213.0    Stratovolcano        D4  48.111801 -121.111000  \n",
       "2  4392.0    Stratovolcano        D3  46.869801 -121.751000  \n",
       "3  2549.0    Stratovolcano        D1  46.199799 -122.181000  \n",
       "4  3742.0    Stratovolcano        D6  46.205799 -121.490997  "
      ]
     },
     "execution_count": 71,
     "metadata": {},
     "output_type": "execute_result"
    }
   ],
   "source": [
    "volcanoes.head()"
   ]
  },
  {
   "cell_type": "code",
   "execution_count": 92,
   "metadata": {},
   "outputs": [],
   "source": [
    "volcanoMap = folium.Map(zoom_start=6)"
   ]
  },
  {
   "cell_type": "code",
   "execution_count": 83,
   "metadata": {},
   "outputs": [],
   "source": [
    "lat = list(volcanoes['LAT'])"
   ]
  },
  {
   "cell_type": "code",
   "execution_count": 84,
   "metadata": {},
   "outputs": [],
   "source": [
    "lon = list(volcanoes['LON'])"
   ]
  },
  {
   "cell_type": "code",
   "execution_count": 85,
   "metadata": {},
   "outputs": [],
   "source": [
    "elev = list(volcanoes['ELEV'])"
   ]
  },
  {
   "cell_type": "code",
   "execution_count": 86,
   "metadata": {},
   "outputs": [],
   "source": [
    "fg = folium.FeatureGroup(name=\"my map\")"
   ]
  },
  {
   "cell_type": "code",
   "execution_count": 89,
   "metadata": {},
   "outputs": [],
   "source": [
    "for lt,ln,el in zip(lat,lon, elev):\n",
    "    fg.add_child(folium.Marker(location=[lt,ln], popup=str(el)))"
   ]
  },
  {
   "cell_type": "code",
   "execution_count": 93,
   "metadata": {},
   "outputs": [
    {
     "data": {
      "text/html": [
       "<div style=\"width:100%;\"><div style=\"position:relative;width:100%;height:0;padding-bottom:60%;\"><iframe src=\"data:text/html;charset=utf-8;base64,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\" style=\"position:absolute;width:100%;height:100%;left:0;top:0;border:none !important;\" allowfullscreen webkitallowfullscreen mozallowfullscreen></iframe></div></div>"
      ],
      "text/plain": [
       "<folium.folium.Map at 0x213ddbf7e48>"
      ]
     },
     "execution_count": 93,
     "metadata": {},
     "output_type": "execute_result"
    }
   ],
   "source": [
    "volcanoMap.add_child(fg)"
   ]
  },
  {
   "cell_type": "code",
   "execution_count": 91,
   "metadata": {},
   "outputs": [],
   "source": [
    "volcanoMap.save(\"VolcanoMarkers.html\")"
   ]
  },
  {
   "cell_type": "code",
   "execution_count": 95,
   "metadata": {},
   "outputs": [],
   "source": [
    "#implememt color function - pass elevation and return color"
   ]
  },
  {
   "cell_type": "code",
   "execution_count": 98,
   "metadata": {},
   "outputs": [
    {
     "ename": "NameError",
     "evalue": "name 'red' is not defined",
     "output_type": "error",
     "traceback": [
      "\u001b[1;31m---------------------------------------------------------------------------\u001b[0m",
      "\u001b[1;31mNameError\u001b[0m                                 Traceback (most recent call last)",
      "\u001b[1;32m<ipython-input-98-b96971087d72>\u001b[0m in \u001b[0;36m<module>\u001b[1;34m()\u001b[0m\n\u001b[1;32m----> 1\u001b[1;33m \u001b[0mfolium\u001b[0m\u001b[1;33m.\u001b[0m\u001b[0mIcon\u001b[0m\u001b[1;33m(\u001b[0m\u001b[0mcolor\u001b[0m\u001b[1;33m=\u001b[0m\u001b[0mcolor\u001b[0m\u001b[1;33m(\u001b[0m\u001b[0melev\u001b[0m\u001b[1;33m)\u001b[0m\u001b[1;33m)\u001b[0m\u001b[1;33m\u001b[0m\u001b[0m\n\u001b[0m",
      "\u001b[1;32m<ipython-input-97-a498fd60c9b2>\u001b[0m in \u001b[0;36mcolor\u001b[1;34m(elev)\u001b[0m\n\u001b[0;32m      1\u001b[0m \u001b[1;32mdef\u001b[0m \u001b[0mcolor\u001b[0m\u001b[1;33m(\u001b[0m\u001b[0melev\u001b[0m\u001b[1;33m)\u001b[0m\u001b[1;33m:\u001b[0m\u001b[1;33m\u001b[0m\u001b[0m\n\u001b[1;32m----> 2\u001b[1;33m     \u001b[1;32mreturn\u001b[0m \u001b[0mred\u001b[0m\u001b[1;33m\u001b[0m\u001b[0m\n\u001b[0m",
      "\u001b[1;31mNameError\u001b[0m: name 'red' is not defined"
     ]
    }
   ],
   "source": [
    "folium.Icon(color=color(elev))"
   ]
  },
  {
   "cell_type": "code",
   "execution_count": 99,
   "metadata": {},
   "outputs": [],
   "source": [
    "def color(elev):\n",
    "    return 000"
   ]
  }
 ],
 "metadata": {
  "kernelspec": {
   "display_name": "Python 3",
   "language": "python",
   "name": "python3"
  },
  "language_info": {
   "codemirror_mode": {
    "name": "ipython",
    "version": 3
   },
   "file_extension": ".py",
   "mimetype": "text/x-python",
   "name": "python",
   "nbconvert_exporter": "python",
   "pygments_lexer": "ipython3",
   "version": "3.7.0"
  }
 },
 "nbformat": 4,
 "nbformat_minor": 2
}
