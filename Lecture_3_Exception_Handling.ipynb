{
 "cells": [
  {
   "cell_type": "code",
   "execution_count": 7,
   "metadata": {},
   "outputs": [
    {
     "name": "stdout",
     "output_type": "stream",
     "text": [
      "Enter an integer: dfa\n",
      "Invalid input\n",
      "Hello World\n"
     ]
    }
   ],
   "source": [
    "try:\n",
    "    a = int(input(\"Enter an integer: \"))\n",
    "except:\n",
    "    print(\"Invalid input\")\n",
    "else:\n",
    "    print(a)\n",
    "finally:\n",
    "    print(\"Hello World\")"
   ]
  },
  {
   "cell_type": "code",
   "execution_count": 12,
   "metadata": {},
   "outputs": [
    {
     "name": "stdout",
     "output_type": "stream",
     "text": [
      "Enter an integer: f\n",
      "Invalid input\n",
      "Hello World\n",
      "Enter an integer: f\n",
      "Invalid input\n",
      "Hello World\n",
      "Enter an integer: f\n",
      "Invalid input\n",
      "Hello World\n",
      "Enter an integer: f\n",
      "Invalid input\n",
      "Hello World\n",
      "Enter an integer: f\n",
      "Invalid input\n",
      "Hello World\n",
      "Enter an integer: f\n",
      "Invalid input\n",
      "Hello World\n"
     ]
    }
   ],
   "source": [
    "i=0\n",
    "while i<=5:\n",
    "    try:\n",
    "        i+=1\n",
    "        a = int(input(\"Enter an integer: \"))\n",
    "    except:\n",
    "        print(\"Invalid input\")\n",
    "    else:\n",
    "        print(a)\n",
    "        break\n",
    "    finally:\n",
    "        print(\"Hello World\")"
   ]
  },
  {
   "cell_type": "code",
   "execution_count": null,
   "metadata": {},
   "outputs": [],
   "source": []
  }
 ],
 "metadata": {
  "kernelspec": {
   "display_name": "Python 3",
   "language": "python",
   "name": "python3"
  },
  "language_info": {
   "codemirror_mode": {
    "name": "ipython",
    "version": 3
   },
   "file_extension": ".py",
   "mimetype": "text/x-python",
   "name": "python",
   "nbconvert_exporter": "python",
   "pygments_lexer": "ipython3",
   "version": "3.7.0"
  }
 },
 "nbformat": 4,
 "nbformat_minor": 2
}
