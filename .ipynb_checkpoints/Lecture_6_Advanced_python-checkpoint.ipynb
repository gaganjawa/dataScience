{
 "cells": [
  {
   "cell_type": "code",
   "execution_count": 1,
   "metadata": {},
   "outputs": [],
   "source": [
    "l = [1,2,2,3,3,3,3,4,4,4,4,4,5,5,5,5,5,5,6,6,6,6,6,7,7,7,7,7,7,7,7]"
   ]
  },
  {
   "cell_type": "code",
   "execution_count": 2,
   "metadata": {},
   "outputs": [],
   "source": [
    "from collections import Counter"
   ]
  },
  {
   "cell_type": "code",
   "execution_count": 3,
   "metadata": {},
   "outputs": [],
   "source": [
    "c = Counter(l)"
   ]
  },
  {
   "cell_type": "code",
   "execution_count": 4,
   "metadata": {},
   "outputs": [
    {
     "data": {
      "text/plain": [
       "Counter({1: 1, 2: 2, 3: 4, 4: 5, 5: 6, 6: 5, 7: 8})"
      ]
     },
     "execution_count": 4,
     "metadata": {},
     "output_type": "execute_result"
    }
   ],
   "source": [
    "c"
   ]
  },
  {
   "cell_type": "code",
   "execution_count": 5,
   "metadata": {},
   "outputs": [
    {
     "data": {
      "text/plain": [
       "[(7, 8), (5, 6), (4, 5), (6, 5), (3, 4), (2, 2), (1, 1)]"
      ]
     },
     "execution_count": 5,
     "metadata": {},
     "output_type": "execute_result"
    }
   ],
   "source": [
    "c.most_common()"
   ]
  },
  {
   "cell_type": "code",
   "execution_count": 12,
   "metadata": {},
   "outputs": [],
   "source": [
    "s = \"The word that occurs the most. Each word count and the count of each word that occurs in this sentence.\""
   ]
  },
  {
   "cell_type": "code",
   "execution_count": 13,
   "metadata": {},
   "outputs": [],
   "source": [
    "c1 = Counter(s.split())"
   ]
  },
  {
   "cell_type": "code",
   "execution_count": 15,
   "metadata": {},
   "outputs": [
    {
     "data": {
      "text/plain": [
       "[('word', 3),\n",
       " ('that', 2),\n",
       " ('occurs', 2),\n",
       " ('the', 2),\n",
       " ('count', 2),\n",
       " ('The', 1),\n",
       " ('most.', 1),\n",
       " ('Each', 1),\n",
       " ('and', 1),\n",
       " ('of', 1),\n",
       " ('each', 1),\n",
       " ('in', 1),\n",
       " ('this', 1),\n",
       " ('sentence.', 1)]"
      ]
     },
     "execution_count": 15,
     "metadata": {},
     "output_type": "execute_result"
    }
   ],
   "source": [
    "c1.most_common()"
   ]
  },
  {
   "cell_type": "code",
   "execution_count": 28,
   "metadata": {},
   "outputs": [
    {
     "data": {
      "text/plain": [
       "True"
      ]
     },
     "execution_count": 28,
     "metadata": {},
     "output_type": "execute_result"
    }
   ],
   "source": [
    "d1 = {}\n",
    "d2 = {}\n",
    "\n",
    "d1['a'] = 'A'\n",
    "d1['b'] = 'B'\n",
    "\n",
    "d2['b'] = 'B'\n",
    "d2['a'] = 'A'\n",
    "\n",
    "d1==d2"
   ]
  },
  {
   "cell_type": "code",
   "execution_count": 29,
   "metadata": {},
   "outputs": [],
   "source": [
    "from collections import OrderedDict"
   ]
  },
  {
   "cell_type": "code",
   "execution_count": 30,
   "metadata": {},
   "outputs": [],
   "source": [
    "d1 = OrderedDict(d1)\n",
    "d2 = OrderedDict(d2)"
   ]
  },
  {
   "cell_type": "code",
   "execution_count": 24,
   "metadata": {},
   "outputs": [
    {
     "data": {
      "text/plain": [
       "False"
      ]
     },
     "execution_count": 24,
     "metadata": {},
     "output_type": "execute_result"
    }
   ],
   "source": [
    "d1['a'] = 'A'\n",
    "d1['b'] = 'B'\n",
    "\n",
    "d2['b'] = 'B'\n",
    "d2['a'] = 'A'\n",
    "\n",
    "d1 == d2"
   ]
  },
  {
   "cell_type": "code",
   "execution_count": 32,
   "metadata": {},
   "outputs": [
    {
     "data": {
      "text/plain": [
       "False"
      ]
     },
     "execution_count": 32,
     "metadata": {},
     "output_type": "execute_result"
    }
   ],
   "source": [
    "d1 == d2"
   ]
  },
  {
   "cell_type": "code",
   "execution_count": 58,
   "metadata": {},
   "outputs": [],
   "source": [
    "s = 'This is a sample string which have erm1 and term2 in it. we will use this string to find term1 and term2.'"
   ]
  },
  {
   "cell_type": "code",
   "execution_count": 34,
   "metadata": {},
   "outputs": [],
   "source": [
    "import re"
   ]
  },
  {
   "cell_type": "code",
   "execution_count": 53,
   "metadata": {},
   "outputs": [],
   "source": [
    "pattern = ['term1', 'term3']"
   ]
  },
  {
   "cell_type": "code",
   "execution_count": 43,
   "metadata": {},
   "outputs": [
    {
     "name": "stdout",
     "output_type": "stream",
     "text": [
      "<re.Match object; span=(88, 93), match='term1'>\n",
      "term1: Found\n",
      "term3: Not there.\n"
     ]
    }
   ],
   "source": [
    "for i in pattern:\n",
    "    if re.search(i, s):\n",
    "        print(re.search(i, s));\n",
    "        print(i+ ': Found')\n",
    "    else:\n",
    "        print(i + ': Not there.')"
   ]
  },
  {
   "cell_type": "code",
   "execution_count": 46,
   "metadata": {},
   "outputs": [
    {
     "data": {
      "text/plain": [
       "['term1']"
      ]
     },
     "execution_count": 46,
     "metadata": {},
     "output_type": "execute_result"
    }
   ],
   "source": [
    "re.findall(pattern[0], s)"
   ]
  },
  {
   "cell_type": "code",
   "execution_count": 50,
   "metadata": {},
   "outputs": [
    {
     "name": "stdout",
     "output_type": "stream",
     "text": [
      "['term1']\n",
      "['term2', 'term2']\n"
     ]
    }
   ],
   "source": [
    "for i in pattern:\n",
    "    print(re.findall(i, s))"
   ]
  },
  {
   "cell_type": "code",
   "execution_count": 59,
   "metadata": {},
   "outputs": [],
   "source": [
    "text = s"
   ]
  },
  {
   "cell_type": "code",
   "execution_count": 60,
   "metadata": {},
   "outputs": [
    {
     "data": {
      "text/plain": [
       "'This is a sample string which have erm1 and term2 in it. we will use this string to find term1 and term2.'"
      ]
     },
     "execution_count": 60,
     "metadata": {},
     "output_type": "execute_result"
    }
   ],
   "source": [
    "text"
   ]
  },
  {
   "cell_type": "code",
   "execution_count": 66,
   "metadata": {},
   "outputs": [
    {
     "data": {
      "text/plain": [
       "<re.Match object; span=(17, 23), match='string'>"
      ]
     },
     "execution_count": 66,
     "metadata": {},
     "output_type": "execute_result"
    }
   ],
   "source": [
    "r1 = re.search('string', text)\n",
    "r1"
   ]
  },
  {
   "cell_type": "code",
   "execution_count": 62,
   "metadata": {},
   "outputs": [],
   "source": [
    "r2 = re.findall('string', text)\n",
    "r3 = Counter(text.split())"
   ]
  },
  {
   "cell_type": "code",
   "execution_count": 65,
   "metadata": {},
   "outputs": [
    {
     "data": {
      "text/plain": [
       "['string', 'string']"
      ]
     },
     "execution_count": 65,
     "metadata": {},
     "output_type": "execute_result"
    }
   ],
   "source": [
    "r2"
   ]
  },
  {
   "cell_type": "code",
   "execution_count": 64,
   "metadata": {},
   "outputs": [
    {
     "data": {
      "text/plain": [
       "Counter({'This': 1,\n",
       "         'is': 1,\n",
       "         'a': 1,\n",
       "         'sample': 1,\n",
       "         'string': 2,\n",
       "         'which': 1,\n",
       "         'have': 1,\n",
       "         'erm1': 1,\n",
       "         'and': 2,\n",
       "         'term2': 1,\n",
       "         'in': 1,\n",
       "         'it.': 1,\n",
       "         'we': 1,\n",
       "         'will': 1,\n",
       "         'use': 1,\n",
       "         'this': 1,\n",
       "         'to': 1,\n",
       "         'find': 1,\n",
       "         'term1': 1,\n",
       "         'term2.': 1})"
      ]
     },
     "execution_count": 64,
     "metadata": {},
     "output_type": "execute_result"
    }
   ],
   "source": [
    "r3"
   ]
  },
  {
   "cell_type": "code",
   "execution_count": 75,
   "metadata": {},
   "outputs": [],
   "source": [
    "test_phrase = 'sdsd....ssssdddd..sdddsssdd...sdsd...dsds....ssddddd...sdd...sddssddd...dsssss'"
   ]
  },
  {
   "cell_type": "code",
   "execution_count": 70,
   "metadata": {},
   "outputs": [],
   "source": [
    "test_patterns = ['sd*', 'sd+', 'sd?', 'sd{3}', 'sd{2,3}']"
   ]
  },
  {
   "cell_type": "code",
   "execution_count": 71,
   "metadata": {},
   "outputs": [
    {
     "name": "stdout",
     "output_type": "stream",
     "text": [
      "['sd', 'sd', 's', 's', 's', 'sdddd', 'sddd', 's', 's', 'sdd', 'sd', 'sd', 'sd', 's', 's', 'sddddd', 'sdd', 'sdd', 's', 'sddd']\n",
      "['sd', 'sd', 'sdddd', 'sddd', 'sdd', 'sd', 'sd', 'sd', 'sddddd', 'sdd', 'sdd', 'sddd']\n",
      "['sd', 'sd', 's', 's', 's', 'sd', 'sd', 's', 's', 'sd', 'sd', 'sd', 'sd', 's', 's', 'sd', 'sd', 'sd', 's', 'sd']\n",
      "['sddd', 'sddd', 'sddd', 'sddd']\n",
      "['sddd', 'sddd', 'sdd', 'sddd', 'sdd', 'sdd', 'sddd']\n"
     ]
    }
   ],
   "source": [
    "for i in test_patterns:\n",
    "    print(re.findall(i, test_phrase))"
   ]
  },
  {
   "cell_type": "code",
   "execution_count": 99,
   "metadata": {},
   "outputs": [],
   "source": [
    "putturn = ['[sd]', 's[sd]+' ]"
   ]
  },
  {
   "cell_type": "code",
   "execution_count": 100,
   "metadata": {},
   "outputs": [
    {
     "name": "stdout",
     "output_type": "stream",
     "text": [
      "['s', 'd', 's', 'd', 's', 's', 's', 's', 'd', 'd', 'd', 'd', 's', 'd', 'd', 'd', 's', 's', 's', 'd', 'd', 's', 'd', 's', 'd', 'd', 's', 'd', 's', 's', 's', 'd', 'd', 'd', 'd', 'd', 's', 'd', 'd', 's', 'd', 'd', 's', 's', 'd', 'd', 'd', 'd', 's', 's', 's', 's', 's']\n",
      "['sdsd', 'ssssdddd', 'sdddsssdd', 'sdsd', 'sds', 'ssddddd', 'sdd', 'sddssddd', 'sssss']\n"
     ]
    }
   ],
   "source": [
    "for i in putturn:\n",
    "    print(re.findall(i, test_phrase))"
   ]
  },
  {
   "cell_type": "code",
   "execution_count": 85,
   "metadata": {},
   "outputs": [],
   "source": [
    "taste_phrase = 'This is a, test phrase.s! This includes puntuations!! Find all, and then find none. Got it?'"
   ]
  },
  {
   "cell_type": "code",
   "execution_count": 86,
   "metadata": {},
   "outputs": [
    {
     "data": {
      "text/plain": [
       "[',', '.', '!', '!!', ',', '.', '?']"
      ]
     },
     "execution_count": 86,
     "metadata": {},
     "output_type": "execute_result"
    }
   ],
   "source": [
    "re.findall('[,!.?]+', taste_phrase)"
   ]
  },
  {
   "cell_type": "code",
   "execution_count": 87,
   "metadata": {},
   "outputs": [
    {
     "data": {
      "text/plain": [
       "['This is a',\n",
       " ' test phrase',\n",
       " 's',\n",
       " ' This includes puntuations',\n",
       " ' Find all',\n",
       " ' and then find none',\n",
       " ' Got it']"
      ]
     },
     "execution_count": 87,
     "metadata": {},
     "output_type": "execute_result"
    }
   ],
   "source": [
    "re.findall('[^,!.?]+', taste_phrase)"
   ]
  },
  {
   "cell_type": "code",
   "execution_count": 89,
   "metadata": {},
   "outputs": [
    {
     "data": {
      "text/plain": [
       "[',', '.', '!', '!', '!', ',', '.', '?']"
      ]
     },
     "execution_count": 89,
     "metadata": {},
     "output_type": "execute_result"
    }
   ],
   "source": [
    "re.findall('[^a-zA-Z ]', taste_phrase)"
   ]
  },
  {
   "cell_type": "code",
   "execution_count": 90,
   "metadata": {},
   "outputs": [
    {
     "data": {
      "text/plain": [
       "'This is a, test phrase s  This includes puntuations   Find all, and then find none  Got it '"
      ]
     },
     "execution_count": 90,
     "metadata": {},
     "output_type": "execute_result"
    }
   ],
   "source": [
    "re.sub('[!.?]', ' ', taste_phrase)"
   ]
  },
  {
   "cell_type": "code",
   "execution_count": 101,
   "metadata": {},
   "outputs": [],
   "source": [
    "s = 'Rahul bc Rahulendra bc Roshan mc'"
   ]
  },
  {
   "cell_type": "code",
   "execution_count": 102,
   "metadata": {},
   "outputs": [
    {
     "data": {
      "text/plain": [
       "'Defaulter bc Defaulterendra bc Roshan mc'"
      ]
     },
     "execution_count": 102,
     "metadata": {},
     "output_type": "execute_result"
    }
   ],
   "source": [
    "re.sub('Ra[a-z]+l', 'Defaulter', s)"
   ]
  },
  {
   "cell_type": "code",
   "execution_count": null,
   "metadata": {},
   "outputs": [],
   "source": []
  },
  {
   "cell_type": "code",
   "execution_count": null,
   "metadata": {},
   "outputs": [],
   "source": []
  }
 ],
 "metadata": {
  "kernelspec": {
   "display_name": "Python 3",
   "language": "python",
   "name": "python3"
  },
  "language_info": {
   "codemirror_mode": {
    "name": "ipython",
    "version": 3
   },
   "file_extension": ".py",
   "mimetype": "text/x-python",
   "name": "python",
   "nbconvert_exporter": "python",
   "pygments_lexer": "ipython3",
   "version": "3.7.0"
  }
 },
 "nbformat": 4,
 "nbformat_minor": 2
}
